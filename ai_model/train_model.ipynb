{
 "cells": [
  {
   "cell_type": "markdown",
   "id": "b42a496f",
   "metadata": {},
   "source": [
    "# 📊 Credit Scoring Model Training (GrameenLoan)"
   ]
  },
  {
   "cell_type": "code",
   "execution_count": null,
   "id": "6976d056",
   "metadata": {},
   "outputs": [],
   "source": [
    "import pandas as pd\n",
    "import numpy as np\n",
    "from sklearn.ensemble import GradientBoostingRegressor\n",
    "from sklearn.model_selection import train_test_split\n",
    "from sklearn.metrics import mean_squared_error\n",
    "import joblib\n",
    "import os\n"
   ]
  },
  {
   "cell_type": "markdown",
   "id": "361c20ac",
   "metadata": {},
   "source": [
    "### ✅ Step 1: Generate synthetic training data"
   ]
  },
  {
   "cell_type": "code",
   "execution_count": null,
   "id": "0fbefe81",
   "metadata": {},
   "outputs": [],
   "source": [
    "np.random.seed(42)\n",
    "n_samples = 5000\n",
    "\n",
    "data = pd.DataFrame({\n",
    "    \"monthly_income\": np.random.normal(20000, 8000, n_samples).clip(5000, 100000),\n",
    "    \"monthly_mobile_spend\": np.random.normal(300, 100, n_samples).clip(50, 1000),\n",
    "    \"monthly_utility_spend\": np.random.normal(1500, 700, n_samples).clip(300, 5000),\n",
    "    \"household_size\": np.random.randint(1, 10, n_samples),\n",
    "    \"is_self_employed\": np.random.choice([0, 1], n_samples, p=[0.7, 0.3])\n",
    "})\n",
    "\n",
    "data[\"credit_score\"] = (\n",
    "    600\n",
    "    + 0.0025 * data[\"monthly_income\"]\n",
    "    - 0.005 * data[\"monthly_mobile_spend\"]\n",
    "    - 0.004 * data[\"monthly_utility_spend\"]\n",
    "    - 3 * data[\"household_size\"]\n",
    "    + 20 * data[\"is_self_employed\"]\n",
    "    + np.random.normal(0, 10, n_samples)\n",
    ").clip(300, 850).astype(int)\n",
    "\n",
    "data.head()\n"
   ]
  },
  {
   "cell_type": "markdown",
   "id": "0632cf26",
   "metadata": {},
   "source": [
    "### ✅ Step 2: Train-Test Split"
   ]
  },
  {
   "cell_type": "code",
   "execution_count": null,
   "id": "7126332d",
   "metadata": {},
   "outputs": [],
   "source": [
    "X = data.drop(\"credit_score\", axis=1)\n",
    "y = data[\"credit_score\"]\n",
    "\n",
    "X_train, X_test, y_train, y_test = train_test_split(X, y, test_size=0.2)\n"
   ]
  },
  {
   "cell_type": "markdown",
   "id": "7000f79f",
   "metadata": {},
   "source": [
    "### ✅ Step 3: Train the Model"
   ]
  },
  {
   "cell_type": "code",
   "execution_count": null,
   "id": "c6573128",
   "metadata": {},
   "outputs": [],
   "source": [
    "model = GradientBoostingRegressor(n_estimators=100, max_depth=5)\n",
    "model.fit(X_train, y_train)\n"
   ]
  },
  {
   "cell_type": "markdown",
   "id": "3be604f1",
   "metadata": {},
   "source": [
    "### ✅ Step 4: Evaluate the Model"
   ]
  },
  {
   "cell_type": "code",
   "execution_count": null,
   "id": "a500e514",
   "metadata": {},
   "outputs": [],
   "source": [
    "preds = model.predict(X_test)\n",
    "rmse = mean_squared_error(y_test, preds, squared=False)\n",
    "print(f\"RMSE: {rmse:.2f}\")\n"
   ]
  },
  {
   "cell_type": "markdown",
   "id": "c7926018",
   "metadata": {},
   "source": [
    "### ✅ Step 5: Save the Model"
   ]
  },
  {
   "cell_type": "code",
   "execution_count": null,
   "id": "86d7e100",
   "metadata": {},
   "outputs": [],
   "source": [
    "os.makedirs(\"ai_model\", exist_ok=True)\n",
    "joblib.dump(model, \"ai_model/credit_model.pkl\")\n",
    "print(\"Model saved to ai_model/credit_model.pkl\")\n"
   ]
  }
 ],
 "metadata": {},
 "nbformat": 4,
 "nbformat_minor": 5
}